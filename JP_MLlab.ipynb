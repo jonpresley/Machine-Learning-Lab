{
 "cells": [
  {
   "cell_type": "markdown",
   "metadata": {},
   "source": [
    "# Part 1:  Preprocessing and EDA\n",
    "\n",
    "- The data comes from a global e-retailer company, including orders from 2012 to 2015. Import the **Orders** dataset and do some basic EDA. \n",
    "- For problem 1 to 3, we mainly focus on data cleaning and data visualizations. You can use all the packages that you are familiar with to conduct some plots and also provide **brief interpretations** about your findings."
   ]
  },
  {
   "cell_type": "markdown",
   "metadata": {},
   "source": [
    "## Problem 1: Dataset Import and Cleaning\n",
    "\n",
    "Check **\"Profit\"** and **\"Sales\"** in the dataset, convert these two columns to numeric type. "
   ]
  },
  {
   "cell_type": "code",
   "execution_count": 1,
   "metadata": {},
   "outputs": [],
   "source": [
    "import pandas as pd\n",
    "import numpy as np\n",
    "import matplotlib.pyplot as plt\n",
    "from scipy import stats\n",
    "%matplotlib inline\n",
    "plt.style.use('ggplot')"
   ]
  },
  {
   "cell_type": "code",
   "execution_count": 2,
   "metadata": {},
   "outputs": [],
   "source": [
    "#Read data and assign to variable names\n",
    "returns = pd.read_csv('./data/Returns.csv')\n",
    "orders = pd.read_csv('./data/Orders.csv')"
   ]
  },
  {
   "cell_type": "code",
   "execution_count": 3,
   "metadata": {},
   "outputs": [],
   "source": [
    "pd.set_option('display.max_columns', 500)\n",
    "pd.set_option('display.max_rows', 100)"
   ]
  },
  {
   "cell_type": "code",
   "execution_count": 4,
   "metadata": {},
   "outputs": [
    {
     "data": {
      "text/plain": [
       "Index(['Row.ID', 'Order.ID', 'Order.Date', 'Ship.Date', 'Ship.Mode',\n",
       "       'Customer.ID', 'Customer.Name', 'Segment', 'Postal.Code', 'City',\n",
       "       'State', 'Country', 'Region', 'Market', 'Product.ID', 'Category',\n",
       "       'Sub.Category', 'Product.Name', 'Sales', 'Quantity', 'Discount',\n",
       "       'Profit', 'Shipping.Cost', 'Order.Priority'],\n",
       "      dtype='object')"
      ]
     },
     "execution_count": 4,
     "metadata": {},
     "output_type": "execute_result"
    }
   ],
   "source": [
    "#Look at column names\n",
    "orders.columns"
   ]
  },
  {
   "cell_type": "code",
   "execution_count": 5,
   "metadata": {},
   "outputs": [
    {
     "data": {
      "text/plain": [
       "Index(['Returned', 'Order ID', 'Region'], dtype='object')"
      ]
     },
     "execution_count": 5,
     "metadata": {},
     "output_type": "execute_result"
    }
   ],
   "source": [
    "returns.columns"
   ]
  },
  {
   "cell_type": "code",
   "execution_count": 6,
   "metadata": {},
   "outputs": [
    {
     "data": {
      "text/plain": [
       "Row.ID                0\n",
       "Order.ID              0\n",
       "Order.Date            0\n",
       "Ship.Date             0\n",
       "Ship.Mode             0\n",
       "Customer.ID           0\n",
       "Customer.Name         0\n",
       "Segment               0\n",
       "Postal.Code       41296\n",
       "City                  0\n",
       "State                 0\n",
       "Country               0\n",
       "Region                0\n",
       "Market                0\n",
       "Product.ID            0\n",
       "Category              0\n",
       "Sub.Category          0\n",
       "Product.Name          0\n",
       "Sales                 0\n",
       "Quantity              0\n",
       "Discount              0\n",
       "Profit                0\n",
       "Shipping.Cost         0\n",
       "Order.Priority        0\n",
       "dtype: int64"
      ]
     },
     "execution_count": 6,
     "metadata": {},
     "output_type": "execute_result"
    }
   ],
   "source": [
    "#Looks for missing data per column. \n",
    "orders.isnull().sum()"
   ]
  },
  {
   "cell_type": "code",
   "execution_count": 7,
   "metadata": {},
   "outputs": [
    {
     "data": {
      "text/plain": [
       "Returned    0\n",
       "Order ID    0\n",
       "Region      0\n",
       "dtype: int64"
      ]
     },
     "execution_count": 7,
     "metadata": {},
     "output_type": "execute_result"
    }
   ],
   "source": [
    "returns.isnull().sum()"
   ]
  },
  {
   "cell_type": "code",
   "execution_count": 8,
   "metadata": {},
   "outputs": [
    {
     "data": {
      "text/plain": [
       "(51290, 24)"
      ]
     },
     "execution_count": 8,
     "metadata": {},
     "output_type": "execute_result"
    }
   ],
   "source": [
    "#Look at dimentions of the data sets.\n",
    "orders.shape"
   ]
  },
  {
   "cell_type": "code",
   "execution_count": 9,
   "metadata": {},
   "outputs": [
    {
     "data": {
      "text/plain": [
       "(1079, 3)"
      ]
     },
     "execution_count": 9,
     "metadata": {},
     "output_type": "execute_result"
    }
   ],
   "source": [
    "returns.shape"
   ]
  },
  {
   "cell_type": "code",
   "execution_count": 10,
   "metadata": {},
   "outputs": [
    {
     "data": {
      "text/plain": [
       "0      $62.15\n",
       "1    -$288.77\n",
       "2     $919.97\n",
       "3     -$96.54\n",
       "4     $311.52\n",
       "Name: Profit, dtype: object"
      ]
     },
     "execution_count": 10,
     "metadata": {},
     "output_type": "execute_result"
    }
   ],
   "source": [
    "#Looks like we need to get rid of $ and commas\n",
    "orders['Profit'].head()"
   ]
  },
  {
   "cell_type": "code",
   "execution_count": 11,
   "metadata": {},
   "outputs": [],
   "source": [
    "#Remove the $ and commas in the Profit and Sales columns. \n",
    "for category in ['Profit', 'Sales']:\n",
    "    orders[category] = pd.to_numeric(orders[category].str.replace('$', '').str.replace(',', ''))\n"
   ]
  },
  {
   "cell_type": "markdown",
   "metadata": {},
   "source": [
    "## Problem 2: Inventory Management\n",
    "- Retailers that depend on seasonal shoppers have a particularly challenging job when it comes to inventory management. Your manager is making plans for next year's inventory.\n",
    "- He wants you to answer the following questions:\n",
    "    1. Is there any seasonal trend of inventory in the company?\n",
    "    2. Is the seasonal trend the same for different categories?\n",
    "\n",
    "- ***Hint:*** For each order, it has an attribute called `Quantity` that indicates the number of product in the order. If an order contains more than one product, there will be multiple observations of the same order."
   ]
  },
  {
   "cell_type": "code",
   "execution_count": 12,
   "metadata": {},
   "outputs": [
    {
     "data": {
      "text/plain": [
       "str"
      ]
     },
     "execution_count": 12,
     "metadata": {},
     "output_type": "execute_result"
    }
   ],
   "source": [
    "#check the type for Order Date... String\n",
    "type(orders['Order.Date'][1])"
   ]
  },
  {
   "cell_type": "code",
   "execution_count": 13,
   "metadata": {},
   "outputs": [],
   "source": [
    "#Take the Month by doing a string split.\n",
    "orders['Month'] = pd.to_numeric(orders['Order.Date'].str.split('/').map(lambda x: x[0]))\n",
    "\n",
    "#pd.DatetimeIndex(orders['Order.Date']).month\n"
   ]
  },
  {
   "cell_type": "code",
   "execution_count": 14,
   "metadata": {},
   "outputs": [
    {
     "data": {
      "text/plain": [
       "<matplotlib.axes._subplots.AxesSubplot at 0x123d03e10>"
      ]
     },
     "execution_count": 14,
     "metadata": {},
     "output_type": "execute_result"
    },
    {
     "data": {
      "text/plain": [
       "<Figure size 864x432 with 0 Axes>"
      ]
     },
     "metadata": {},
     "output_type": "display_data"
    },
    {
     "data": {
      "image/png": "[encoded data removed]",
      "text/plain": [
       "<Figure size 432x288 with 1 Axes>"
      ]
     },
     "metadata": {
      "needs_background": "light"
     },
     "output_type": "display_data"
    }
   ],
   "source": [
    "# Plot inventory (sum of quantity) by grouped by month.\n",
    "plt.figure(figsize=(12,6))\n",
    "orders.groupby('Month').agg({'Quantity':'sum'}).plot.bar(color='b')"
   ]
  },
  {
   "cell_type": "code",
   "execution_count": 15,
   "metadata": {},
   "outputs": [],
   "source": [
    "#Also group by Category\n",
    "agg_orders = orders.groupby(['Month', 'Category']).agg({'Quantity':'sum'}).reset_index()"
   ]
  },
  {
   "cell_type": "code",
   "execution_count": 16,
   "metadata": {},
   "outputs": [],
   "source": [
    "#Create a filtered data frame for each category to plot later.\n",
    "f = agg_orders.loc[agg_orders.Category==\"Furniture\"]\n",
    "t = agg_orders.loc[agg_orders.Category==\"Technology\"]\n",
    "o = agg_orders.loc[agg_orders.Category==\"Office Supplies\"]"
   ]
  },
  {
   "cell_type": "code",
   "execution_count": 17,
   "metadata": {},
   "outputs": [
    {
     "data": {
      "text/plain": [
       "<matplotlib.legend.Legend at 0x11f010fd0>"
      ]
     },
     "execution_count": 17,
     "metadata": {},
     "output_type": "execute_result"
    },
    {
     "data": {
      "image/png": "[encoded data removed]",
      "text/plain": [
       "<Figure size 432x288 with 1 Axes>"
      ]
     },
     "metadata": {
      "needs_background": "light"
     },
     "output_type": "display_data"
    }
   ],
   "source": [
    "#Create a line plot with lines representing each category.\n",
    "plt.plot('Month', \"Quantity\", data=f, marker='', markerfacecolor='blue', label = \"Furniture\")\n",
    "plt.plot('Month', \"Quantity\", data=t, marker='', markerfacecolor='blue', label = \"Technology\")\n",
    "plt.plot('Month', \"Quantity\", data=o, marker='', markerfacecolor='blue', label = \"Office Supplies\")\n",
    "plt.legend()\n"
   ]
  },
  {
   "cell_type": "markdown",
   "metadata": {},
   "source": [
    "## Problem 3: Why did customers make returns?\n",
    "- Your manager required you to give a brief report (**Plots + Interpretations**) on returned orders."
   ]
  },
  {
   "cell_type": "markdown",
   "metadata": {},
   "source": [
    "### 3.1 How much profit did we lose due to returns each year?"
   ]
  },
  {
   "cell_type": "code",
   "execution_count": 18,
   "metadata": {},
   "outputs": [
    {
     "data": {
      "text/html": [
       "<div>\n",
       "<style scoped>\n",
       "    .dataframe tbody tr th:only-of-type {\n",
       "        vertical-align: middle;\n",
       "    }\n",
       "\n",
       "    .dataframe tbody tr th {\n",
       "        vertical-align: top;\n",
       "    }\n",
       "\n",
       "    .dataframe thead th {\n",
       "        text-align: right;\n",
       "    }\n",
       "</style>\n",
       "<table border=\"1\" class=\"dataframe\">\n",
       "  <thead>\n",
       "    <tr style=\"text-align: right;\">\n",
       "      <th></th>\n",
       "      <th>Returned</th>\n",
       "      <th>Order ID</th>\n",
       "      <th>Region</th>\n",
       "    </tr>\n",
       "  </thead>\n",
       "  <tbody>\n",
       "    <tr>\n",
       "      <th>0</th>\n",
       "      <td>Yes</td>\n",
       "      <td>CA-2012-SA20830140-41210</td>\n",
       "      <td>Central US</td>\n",
       "    </tr>\n",
       "    <tr>\n",
       "      <th>1</th>\n",
       "      <td>Yes</td>\n",
       "      <td>IN-2012-PB19210127-41259</td>\n",
       "      <td>Eastern Asia</td>\n",
       "    </tr>\n",
       "    <tr>\n",
       "      <th>2</th>\n",
       "      <td>Yes</td>\n",
       "      <td>CA-2012-SC20095140-41174</td>\n",
       "      <td>Central US</td>\n",
       "    </tr>\n",
       "    <tr>\n",
       "      <th>3</th>\n",
       "      <td>Yes</td>\n",
       "      <td>IN-2015-JH158207-42140</td>\n",
       "      <td>Oceania</td>\n",
       "    </tr>\n",
       "    <tr>\n",
       "      <th>4</th>\n",
       "      <td>Yes</td>\n",
       "      <td>IN-2014-LC168857-41747</td>\n",
       "      <td>Oceania</td>\n",
       "    </tr>\n",
       "  </tbody>\n",
       "</table>\n",
       "</div>"
      ],
      "text/plain": [
       "  Returned                  Order ID        Region\n",
       "0      Yes  CA-2012-SA20830140-41210    Central US\n",
       "1      Yes  IN-2012-PB19210127-41259  Eastern Asia\n",
       "2      Yes  CA-2012-SC20095140-41174    Central US\n",
       "3      Yes    IN-2015-JH158207-42140       Oceania\n",
       "4      Yes    IN-2014-LC168857-41747       Oceania"
      ]
     },
     "execution_count": 18,
     "metadata": {},
     "output_type": "execute_result"
    }
   ],
   "source": [
    "returns.head()"
   ]
  },
  {
   "cell_type": "code",
   "execution_count": 19,
   "metadata": {},
   "outputs": [
    {
     "data": {
      "text/plain": [
       "Yes    1079\n",
       "Name: Returned, dtype: int64"
      ]
     },
     "execution_count": 19,
     "metadata": {},
     "output_type": "execute_result"
    }
   ],
   "source": [
    "returns.Returned.value_counts() #all Yes, no No's"
   ]
  },
  {
   "cell_type": "code",
   "execution_count": 20,
   "metadata": {},
   "outputs": [
    {
     "data": {
      "text/plain": [
       "61370.75"
      ]
     },
     "execution_count": 20,
     "metadata": {},
     "output_type": "execute_result"
    }
   ],
   "source": [
    "#Merge with Sales and sum the profits from only those returned. \n",
    "merged = returns.merge(orders, how='left', left_on='Order ID', right_on='Order.ID')\n",
    "merged['Profit'].sum() #$61,370 total"
   ]
  },
  {
   "cell_type": "code",
   "execution_count": 21,
   "metadata": {},
   "outputs": [
    {
     "data": {
      "text/plain": [
       "Year\n",
       "2012    17477.26\n",
       "2013     9269.89\n",
       "2014    17510.63\n",
       "2015    17112.97\n",
       "Name: Profit, dtype: float64"
      ]
     },
     "execution_count": 21,
     "metadata": {},
     "output_type": "execute_result"
    }
   ],
   "source": [
    "#Finding the Lost Profit grouped by Year\n",
    "merged['Year'] = pd.DatetimeIndex(merged['Order.Date']).year\n",
    "profit_loss_by_year = merged.groupby('Year')['Profit'].sum()\n",
    "profit_loss_by_year"
   ]
  },
  {
   "cell_type": "code",
   "execution_count": 22,
   "metadata": {},
   "outputs": [
    {
     "data": {
      "text/plain": [
       "<matplotlib.axes._subplots.AxesSubplot at 0x11ef602b0>"
      ]
     },
     "execution_count": 22,
     "metadata": {},
     "output_type": "execute_result"
    },
    {
     "data": {
      "image/png": "[encoded data removed]",
      "text/plain": [
       "<Figure size 432x288 with 1 Axes>"
      ]
     },
     "metadata": {
      "needs_background": "light"
     },
     "output_type": "display_data"
    }
   ],
   "source": [
    "#Barplot of Loss of Profit from Returns by Year\n",
    "plt.figure()\n",
    "profit_loss_by_year.plot.bar()"
   ]
  },
  {
   "cell_type": "markdown",
   "metadata": {},
   "source": [
    "### 3.2 How many customers returned more than once? more than 5 times?\n"
   ]
  },
  {
   "cell_type": "code",
   "execution_count": 23,
   "metadata": {},
   "outputs": [
    {
     "data": {
      "text/plain": [
       "547"
      ]
     },
     "execution_count": 23,
     "metadata": {},
     "output_type": "execute_result"
    }
   ],
   "source": [
    "#Count the number of returns by Customer.ID\n",
    "counts_by_custID = merged.groupby('Customer.ID').count()\n",
    "#Filter the dataframe for counts greater than 1\n",
    "counts_by_custID.loc[counts_by_custID.Returned>1]['Returned'].count() #547"
   ]
  },
  {
   "cell_type": "code",
   "execution_count": 24,
   "metadata": {},
   "outputs": [
    {
     "data": {
      "text/plain": [
       "46"
      ]
     },
     "execution_count": 24,
     "metadata": {},
     "output_type": "execute_result"
    }
   ],
   "source": [
    "#Filter the dataframe for counts greater than 5\n",
    "counts_by_custID.loc[counts_by_custID.Returned>5]['Returned'].count() #46"
   ]
  },
  {
   "cell_type": "markdown",
   "metadata": {},
   "source": [
    "### 3.3 Which regions are more likely to return orders?\n"
   ]
  },
  {
   "cell_type": "code",
   "execution_count": 25,
   "metadata": {},
   "outputs": [
    {
     "data": {
      "text/plain": [
       "Region_x\n",
       "Central America      248\n",
       "Western Europe       233\n",
       "Western US           180\n",
       "Oceania              154\n",
       "Southeastern Asia    140\n",
       "Eastern US           134\n",
       "South America        133\n",
       "Eastern Asia         131\n",
       "Southern Europe      112\n",
       "Southern Asia        111\n",
       "Western Asia         108\n",
       "Southern US           83\n",
       "Northern Europe       76\n",
       "Central US            71\n",
       "Caribbean             69\n",
       "Western Africa        60\n",
       "North Africa          51\n",
       "Eastern Europe        42\n",
       "Southern Africa       25\n",
       "Eastern Africa        18\n",
       "Central Africa        17\n",
       "Eastern Canada        10\n",
       "Central Asia           9\n",
       "Western Canada         5\n",
       "Name: Returned, dtype: int64"
      ]
     },
     "execution_count": 25,
     "metadata": {},
     "output_type": "execute_result"
    }
   ],
   "source": [
    "#Group by Region and sort the counts of returns.\n",
    "returned_by_region = merged.groupby('Region_x').count().Returned.sort_values(ascending=False)\n",
    "returned_by_region  #Central America, Western Europe, and Western US are the top 3\n"
   ]
  },
  {
   "cell_type": "code",
   "execution_count": 26,
   "metadata": {},
   "outputs": [
    {
     "data": {
      "text/plain": [
       "<matplotlib.axes._subplots.AxesSubplot at 0x1200e7eb8>"
      ]
     },
     "execution_count": 26,
     "metadata": {},
     "output_type": "execute_result"
    },
    {
     "data": {
      "image/png": "[encoded data removed]",
      "text/plain": [
       "<Figure size 432x288 with 1 Axes>"
      ]
     },
     "metadata": {
      "needs_background": "light"
     },
     "output_type": "display_data"
    }
   ],
   "source": [
    "#Barplot of Regions with the Most Returns\n",
    "plt.figure()\n",
    "returned_by_region.plot.bar()"
   ]
  },
  {
   "cell_type": "markdown",
   "metadata": {},
   "source": [
    "### 3.4 Which categories (sub-categories) of products are more likely to be returned?"
   ]
  },
  {
   "cell_type": "code",
   "execution_count": 27,
   "metadata": {},
   "outputs": [
    {
     "data": {
      "text/plain": [
       "Category\n",
       "Office Supplies    1348\n",
       "Technology          445\n",
       "Furniture           427\n",
       "Name: Returned, dtype: int64"
      ]
     },
     "execution_count": 27,
     "metadata": {},
     "output_type": "execute_result"
    }
   ],
   "source": [
    "#Sort the number of returns grouped by Category.\n",
    "returned_by_cat = merged.groupby('Category').count().Returned.sort_values(ascending=False)\n",
    "returned_by_cat"
   ]
  },
  {
   "cell_type": "code",
   "execution_count": 28,
   "metadata": {},
   "outputs": [
    {
     "data": {
      "text/plain": [
       "<matplotlib.axes._subplots.AxesSubplot at 0x11ee6d908>"
      ]
     },
     "execution_count": 28,
     "metadata": {},
     "output_type": "execute_result"
    },
    {
     "data": {
      "image/png": "[encoded data removed]",
      "text/plain": [
       "<Figure size 432x288 with 1 Axes>"
      ]
     },
     "metadata": {
      "needs_background": "light"
     },
     "output_type": "display_data"
    }
   ],
   "source": [
    "#Barplot of Category with the Most Returns\n",
    "plt.figure()\n",
    "returned_by_cat.plot.bar()"
   ]
  },
  {
   "cell_type": "code",
   "execution_count": 29,
   "metadata": {},
   "outputs": [
    {
     "data": {
      "text/plain": [
       "Sub.Category\n",
       "Binders        269\n",
       "Art            217\n",
       "Storage        212\n",
       "Paper          150\n",
       "Chairs         147\n",
       "Phones         145\n",
       "Accessories    138\n",
       "Labels         137\n",
       "Furnishings    135\n",
       "Bookcases      104\n",
       "Supplies       103\n",
       "Fasteners      102\n",
       "Copiers         99\n",
       "Envelopes       99\n",
       "Machines        63\n",
       "Appliances      59\n",
       "Tables          41\n",
       "Name: Returned, dtype: int64"
      ]
     },
     "execution_count": 29,
     "metadata": {},
     "output_type": "execute_result"
    }
   ],
   "source": [
    "#Subcategories sorted by number of returns\n",
    "returned_by_subcat = merged.groupby('Sub.Category').count().Returned.sort_values(ascending=False)\n",
    "returned_by_subcat"
   ]
  },
  {
   "cell_type": "code",
   "execution_count": 30,
   "metadata": {},
   "outputs": [],
   "source": [
    "#Group the returns by Category and Subcategory\n",
    "returned_grouped_cats = merged.groupby([\"Category\", 'Sub.Category']).count().reset_index()"
   ]
  },
  {
   "cell_type": "code",
   "execution_count": 31,
   "metadata": {},
   "outputs": [],
   "source": [
    "#Filter the returns by Category to plot later.\n",
    "furniture_return_cnt = returned_grouped_cats.loc[returned_grouped_cats.Category == \"Furniture\"]\n",
    "technology_return_cnt = returned_grouped_cats.loc[returned_grouped_cats.Category == \"Technology\"]\n",
    "officesupplies_return_cnt = returned_grouped_cats.loc[returned_grouped_cats.Category == \"Office Supplies\"]"
   ]
  },
  {
   "cell_type": "code",
   "execution_count": 32,
   "metadata": {},
   "outputs": [
    {
     "data": {
      "text/plain": [
       "<matplotlib.axes._subplots.AxesSubplot at 0x11efd31d0>"
      ]
     },
     "execution_count": 32,
     "metadata": {},
     "output_type": "execute_result"
    },
    {
     "data": {
      "image/png": "[encoded data removed]",
      "text/plain": [
       "<Figure size 432x288 with 1 Axes>"
      ]
     },
     "metadata": {
      "needs_background": "light"
     },
     "output_type": "display_data"
    }
   ],
   "source": [
    "#Furniture Return Counts\n",
    "plt.figure()\n",
    "furniture_return_cnt.set_index('Sub.Category')[\"Returned\"].plot.bar()"
   ]
  },
  {
   "cell_type": "code",
   "execution_count": 33,
   "metadata": {},
   "outputs": [
    {
     "data": {
      "text/plain": [
       "<matplotlib.axes._subplots.AxesSubplot at 0x11f130f28>"
      ]
     },
     "execution_count": 33,
     "metadata": {},
     "output_type": "execute_result"
    },
    {
     "data": {
      "image/png": "[encoded data removed]",
      "text/plain": [
       "<Figure size 432x288 with 1 Axes>"
      ]
     },
     "metadata": {
      "needs_background": "light"
     },
     "output_type": "display_data"
    }
   ],
   "source": [
    "#Technology Return Counts\n",
    "plt.figure()\n",
    "technology_return_cnt.set_index('Sub.Category')[\"Returned\"].plot.bar()"
   ]
  },
  {
   "cell_type": "code",
   "execution_count": 34,
   "metadata": {},
   "outputs": [
    {
     "data": {
      "text/plain": [
       "<matplotlib.axes._subplots.AxesSubplot at 0x11fdf5e10>"
      ]
     },
     "execution_count": 34,
     "metadata": {},
     "output_type": "execute_result"
    },
    {
     "data": {
      "image/png": "[encoded data removed]",
      "text/plain": [
       "<Figure size 432x288 with 1 Axes>"
      ]
     },
     "metadata": {
      "needs_background": "light"
     },
     "output_type": "display_data"
    }
   ],
   "source": [
    "#Office Supply Return Counts\n",
    "plt.figure()\n",
    "officesupplies_return_cnt.set_index('Sub.Category')[\"Returned\"].plot.bar()"
   ]
  },
  {
   "cell_type": "markdown",
   "metadata": {},
   "source": [
    "# Part 2 Machine Learning and Business Use Case\n",
    "\n",
    "Now your manager has a basic understanding of why customers returned orders. Next, he wants you to use machine learning to predict which orders are most likely to be returned. In this part, you will generate several features based on our previous findings and your manager's requirements.\n",
    "\n",
    "\n",
    "AUC and ROC as showing how good it is.\n",
    "Also do the classification report, which has F-test, precision, accuracy, etc."
   ]
  },
  {
   "cell_type": "code",
   "execution_count": null,
   "metadata": {},
   "outputs": [],
   "source": []
  },
  {
   "cell_type": "markdown",
   "metadata": {},
   "source": [
    "### Problem 4: Feature Engineering\n",
    "#### Step 1: Create the dependent variable\n",
    "- First of all, we need to generate a categorical variable which indicates whether an order has been returned or not.\n",
    "- ***Hint:*** the returned orders’ IDs are contained in the dataset “returns”"
   ]
  },
  {
   "cell_type": "code",
   "execution_count": 35,
   "metadata": {},
   "outputs": [
    {
     "data": {
      "text/html": [
       "<div>\n",
       "<style scoped>\n",
       "    .dataframe tbody tr th:only-of-type {\n",
       "        vertical-align: middle;\n",
       "    }\n",
       "\n",
       "    .dataframe tbody tr th {\n",
       "        vertical-align: top;\n",
       "    }\n",
       "\n",
       "    .dataframe thead th {\n",
       "        text-align: right;\n",
       "    }\n",
       "</style>\n",
       "<table border=\"1\" class=\"dataframe\">\n",
       "  <thead>\n",
       "    <tr style=\"text-align: right;\">\n",
       "      <th></th>\n",
       "      <th>Returned</th>\n",
       "      <th>Order ID</th>\n",
       "      <th>Region</th>\n",
       "    </tr>\n",
       "  </thead>\n",
       "  <tbody>\n",
       "    <tr>\n",
       "      <th>8</th>\n",
       "      <td>Yes</td>\n",
       "      <td>ES-2014-JF15295120-41924</td>\n",
       "      <td>Southern Europe</td>\n",
       "    </tr>\n",
       "    <tr>\n",
       "      <th>370</th>\n",
       "      <td>Yes</td>\n",
       "      <td>ES-2012-CD1198048-41151</td>\n",
       "      <td>Western Europe</td>\n",
       "    </tr>\n",
       "    <tr>\n",
       "      <th>443</th>\n",
       "      <td>Yes</td>\n",
       "      <td>IR-2014-MM805560-41990</td>\n",
       "      <td>Southern Asia</td>\n",
       "    </tr>\n",
       "    <tr>\n",
       "      <th>304</th>\n",
       "      <td>Yes</td>\n",
       "      <td>CA-2012-RD19585140-41000</td>\n",
       "      <td>Southern US</td>\n",
       "    </tr>\n",
       "    <tr>\n",
       "      <th>910</th>\n",
       "      <td>Yes</td>\n",
       "      <td>IN-2014-AC1061558-41808</td>\n",
       "      <td>Southern Asia</td>\n",
       "    </tr>\n",
       "  </tbody>\n",
       "</table>\n",
       "</div>"
      ],
      "text/plain": [
       "    Returned                  Order ID           Region\n",
       "8        Yes  ES-2014-JF15295120-41924  Southern Europe\n",
       "370      Yes   ES-2012-CD1198048-41151   Western Europe\n",
       "443      Yes    IR-2014-MM805560-41990    Southern Asia\n",
       "304      Yes  CA-2012-RD19585140-41000      Southern US\n",
       "910      Yes   IN-2014-AC1061558-41808    Southern Asia"
      ]
     },
     "execution_count": 35,
     "metadata": {},
     "output_type": "execute_result"
    }
   ],
   "source": [
    "returns.sample(5)"
   ]
  },
  {
   "cell_type": "code",
   "execution_count": 36,
   "metadata": {},
   "outputs": [
    {
     "data": {
      "text/html": [
       "<div>\n",
       "<style scoped>\n",
       "    .dataframe tbody tr th:only-of-type {\n",
       "        vertical-align: middle;\n",
       "    }\n",
       "\n",
       "    .dataframe tbody tr th {\n",
       "        vertical-align: top;\n",
       "    }\n",
       "\n",
       "    .dataframe thead th {\n",
       "        text-align: right;\n",
       "    }\n",
       "</style>\n",
       "<table border=\"1\" class=\"dataframe\">\n",
       "  <thead>\n",
       "    <tr style=\"text-align: right;\">\n",
       "      <th></th>\n",
       "      <th>Row.ID</th>\n",
       "      <th>Order.ID</th>\n",
       "      <th>Order.Date</th>\n",
       "      <th>Ship.Date</th>\n",
       "      <th>Ship.Mode</th>\n",
       "      <th>Customer.ID</th>\n",
       "      <th>Customer.Name</th>\n",
       "      <th>Segment</th>\n",
       "      <th>Postal.Code</th>\n",
       "      <th>City</th>\n",
       "      <th>State</th>\n",
       "      <th>Country</th>\n",
       "      <th>Region</th>\n",
       "      <th>Market</th>\n",
       "      <th>Product.ID</th>\n",
       "      <th>Category</th>\n",
       "      <th>Sub.Category</th>\n",
       "      <th>Product.Name</th>\n",
       "      <th>Sales</th>\n",
       "      <th>Quantity</th>\n",
       "      <th>Discount</th>\n",
       "      <th>Profit</th>\n",
       "      <th>Shipping.Cost</th>\n",
       "      <th>Order.Priority</th>\n",
       "      <th>Month</th>\n",
       "    </tr>\n",
       "  </thead>\n",
       "  <tbody>\n",
       "    <tr>\n",
       "      <th>16776</th>\n",
       "      <td>13437</td>\n",
       "      <td>IT-2013-LS1723091-41390</td>\n",
       "      <td>4/26/13</td>\n",
       "      <td>5/1/13</td>\n",
       "      <td>Second Class</td>\n",
       "      <td>LS-1723091</td>\n",
       "      <td>Lycoris Saunders</td>\n",
       "      <td>Consumer</td>\n",
       "      <td>NaN</td>\n",
       "      <td>Leeuwarden</td>\n",
       "      <td>Friesland</td>\n",
       "      <td>Netherlands</td>\n",
       "      <td>Western Europe</td>\n",
       "      <td>Europe</td>\n",
       "      <td>TEC-MA-5542</td>\n",
       "      <td>Technology</td>\n",
       "      <td>Machines</td>\n",
       "      <td>Panasonic Card Printer, Durable</td>\n",
       "      <td>173.94</td>\n",
       "      <td>2</td>\n",
       "      <td>0.5</td>\n",
       "      <td>-104.40</td>\n",
       "      <td>16.660</td>\n",
       "      <td>Medium</td>\n",
       "      <td>4</td>\n",
       "    </tr>\n",
       "    <tr>\n",
       "      <th>17985</th>\n",
       "      <td>6764</td>\n",
       "      <td>MX-2015-OT1873082-42105</td>\n",
       "      <td>4/11/15</td>\n",
       "      <td>4/14/15</td>\n",
       "      <td>First Class</td>\n",
       "      <td>OT-1873082</td>\n",
       "      <td>Olvera Toch</td>\n",
       "      <td>Consumer</td>\n",
       "      <td>NaN</td>\n",
       "      <td>Tlalnepantla</td>\n",
       "      <td>México</td>\n",
       "      <td>Mexico</td>\n",
       "      <td>Central America</td>\n",
       "      <td>LATAM</td>\n",
       "      <td>OFF-BI-2902</td>\n",
       "      <td>Office Supplies</td>\n",
       "      <td>Binders</td>\n",
       "      <td>Acco Binding Machine, Recycled</td>\n",
       "      <td>68.60</td>\n",
       "      <td>2</td>\n",
       "      <td>0.0</td>\n",
       "      <td>26.72</td>\n",
       "      <td>14.961</td>\n",
       "      <td>High</td>\n",
       "      <td>4</td>\n",
       "    </tr>\n",
       "    <tr>\n",
       "      <th>48035</th>\n",
       "      <td>41671</td>\n",
       "      <td>TU-2014-AR540134-41807</td>\n",
       "      <td>6/17/14</td>\n",
       "      <td>6/21/14</td>\n",
       "      <td>Second Class</td>\n",
       "      <td>AR-540134</td>\n",
       "      <td>Andy Reiter</td>\n",
       "      <td>Consumer</td>\n",
       "      <td>NaN</td>\n",
       "      <td>Van</td>\n",
       "      <td>Van</td>\n",
       "      <td>Turkey</td>\n",
       "      <td>Western Asia</td>\n",
       "      <td>Asia Pacific</td>\n",
       "      <td>OFF-AR-3464</td>\n",
       "      <td>Office Supplies</td>\n",
       "      <td>Art</td>\n",
       "      <td>BIC Pens, Blue</td>\n",
       "      <td>5.71</td>\n",
       "      <td>1</td>\n",
       "      <td>0.6</td>\n",
       "      <td>-7.01</td>\n",
       "      <td>1.380</td>\n",
       "      <td>Medium</td>\n",
       "      <td>6</td>\n",
       "    </tr>\n",
       "    <tr>\n",
       "      <th>36185</th>\n",
       "      <td>8339</td>\n",
       "      <td>MX-2015-CB1241598-42299</td>\n",
       "      <td>10/22/15</td>\n",
       "      <td>10/27/15</td>\n",
       "      <td>Standard Class</td>\n",
       "      <td>CB-1241598</td>\n",
       "      <td>Christy Brittain</td>\n",
       "      <td>Consumer</td>\n",
       "      <td>NaN</td>\n",
       "      <td>Arraiján</td>\n",
       "      <td>Panama</td>\n",
       "      <td>Panama</td>\n",
       "      <td>Central America</td>\n",
       "      <td>LATAM</td>\n",
       "      <td>FUR-BO-5745</td>\n",
       "      <td>Furniture</td>\n",
       "      <td>Bookcases</td>\n",
       "      <td>Safco 3-Shelf Cabinet, Metal</td>\n",
       "      <td>67.32</td>\n",
       "      <td>1</td>\n",
       "      <td>0.4</td>\n",
       "      <td>-35.92</td>\n",
       "      <td>3.234</td>\n",
       "      <td>Medium</td>\n",
       "      <td>10</td>\n",
       "    </tr>\n",
       "    <tr>\n",
       "      <th>37844</th>\n",
       "      <td>45258</td>\n",
       "      <td>JO-2013-RH951067-41302</td>\n",
       "      <td>1/28/13</td>\n",
       "      <td>2/1/13</td>\n",
       "      <td>Standard Class</td>\n",
       "      <td>RH-951067</td>\n",
       "      <td>Rick Huthwaite</td>\n",
       "      <td>Home Office</td>\n",
       "      <td>NaN</td>\n",
       "      <td>Amman</td>\n",
       "      <td>'Amman</td>\n",
       "      <td>Jordan</td>\n",
       "      <td>Western Asia</td>\n",
       "      <td>Asia Pacific</td>\n",
       "      <td>OFF-SU-6160</td>\n",
       "      <td>Office Supplies</td>\n",
       "      <td>Supplies</td>\n",
       "      <td>Stiletto Box Cutter, Easy Grip</td>\n",
       "      <td>75.18</td>\n",
       "      <td>2</td>\n",
       "      <td>0.0</td>\n",
       "      <td>4.50</td>\n",
       "      <td>2.780</td>\n",
       "      <td>Medium</td>\n",
       "      <td>1</td>\n",
       "    </tr>\n",
       "  </tbody>\n",
       "</table>\n",
       "</div>"
      ],
      "text/plain": [
       "       Row.ID                 Order.ID Order.Date Ship.Date       Ship.Mode  \\\n",
       "16776   13437  IT-2013-LS1723091-41390    4/26/13    5/1/13    Second Class   \n",
       "17985    6764  MX-2015-OT1873082-42105    4/11/15   4/14/15     First Class   \n",
       "48035   41671   TU-2014-AR540134-41807    6/17/14   6/21/14    Second Class   \n",
       "36185    8339  MX-2015-CB1241598-42299   10/22/15  10/27/15  Standard Class   \n",
       "37844   45258   JO-2013-RH951067-41302    1/28/13    2/1/13  Standard Class   \n",
       "\n",
       "      Customer.ID     Customer.Name      Segment  Postal.Code          City  \\\n",
       "16776  LS-1723091  Lycoris Saunders     Consumer          NaN    Leeuwarden   \n",
       "17985  OT-1873082       Olvera Toch     Consumer          NaN  Tlalnepantla   \n",
       "48035   AR-540134       Andy Reiter     Consumer          NaN           Van   \n",
       "36185  CB-1241598  Christy Brittain     Consumer          NaN      Arraiján   \n",
       "37844   RH-951067    Rick Huthwaite  Home Office          NaN         Amman   \n",
       "\n",
       "           State      Country           Region        Market   Product.ID  \\\n",
       "16776  Friesland  Netherlands   Western Europe        Europe  TEC-MA-5542   \n",
       "17985     México       Mexico  Central America         LATAM  OFF-BI-2902   \n",
       "48035        Van       Turkey     Western Asia  Asia Pacific  OFF-AR-3464   \n",
       "36185     Panama       Panama  Central America         LATAM  FUR-BO-5745   \n",
       "37844     'Amman       Jordan     Western Asia  Asia Pacific  OFF-SU-6160   \n",
       "\n",
       "              Category Sub.Category                     Product.Name   Sales  \\\n",
       "16776       Technology     Machines  Panasonic Card Printer, Durable  173.94   \n",
       "17985  Office Supplies      Binders   Acco Binding Machine, Recycled   68.60   \n",
       "48035  Office Supplies          Art                   BIC Pens, Blue    5.71   \n",
       "36185        Furniture    Bookcases     Safco 3-Shelf Cabinet, Metal   67.32   \n",
       "37844  Office Supplies     Supplies   Stiletto Box Cutter, Easy Grip   75.18   \n",
       "\n",
       "       Quantity  Discount  Profit  Shipping.Cost Order.Priority  Month  \n",
       "16776         2       0.5 -104.40         16.660         Medium      4  \n",
       "17985         2       0.0   26.72         14.961           High      4  \n",
       "48035         1       0.6   -7.01          1.380         Medium      6  \n",
       "36185         1       0.4  -35.92          3.234         Medium     10  \n",
       "37844         2       0.0    4.50          2.780         Medium      1  "
      ]
     },
     "execution_count": 36,
     "metadata": {},
     "output_type": "execute_result"
    }
   ],
   "source": [
    "orders.sample(5)"
   ]
  },
  {
   "cell_type": "code",
   "execution_count": 37,
   "metadata": {},
   "outputs": [],
   "source": [
    "merged_outer = returns.merge(orders, how='outer', left_on='Order ID', right_on='Order.ID')"
   ]
  },
  {
   "cell_type": "code",
   "execution_count": 38,
   "metadata": {},
   "outputs": [],
   "source": [
    "merged_outer['Returned'] = merged_outer['Returned'].fillna(0).replace('Yes', 1)"
   ]
  },
  {
   "cell_type": "markdown",
   "metadata": {},
   "source": [
    "#### Step 2:\n",
    "- Your manager believes that **how long it took the order to ship** would affect whether the customer would return it or not. \n",
    "- He wants you to generate a feature which can measure how long it takes the company to process each order.\n",
    "- ***Hint:*** Process.Time = Ship.Date - Order.Date"
   ]
  },
  {
   "cell_type": "code",
   "execution_count": 39,
   "metadata": {},
   "outputs": [
    {
     "data": {
      "text/plain": [
       "str"
      ]
     },
     "execution_count": 39,
     "metadata": {},
     "output_type": "execute_result"
    }
   ],
   "source": [
    "type(merged_outer['Ship.Date'][0])"
   ]
  },
  {
   "cell_type": "code",
   "execution_count": 40,
   "metadata": {},
   "outputs": [],
   "source": [
    "merged_outer['Order.Date'] = pd.DatetimeIndex(merged_outer['Order.Date'])\n",
    "merged_outer['Ship.Date'] = pd.DatetimeIndex(merged_outer['Ship.Date'])"
   ]
  },
  {
   "cell_type": "code",
   "execution_count": 41,
   "metadata": {},
   "outputs": [],
   "source": [
    "merged_outer['Process.Time'] = merged_outer['Ship.Date'] - merged_outer['Order.Date']\n",
    "merged_outer['Process.Time'] = merged_outer['Process.Time'].map(lambda x: x.days)"
   ]
  },
  {
   "cell_type": "markdown",
   "metadata": {},
   "source": [
    "#### Step 3:\n",
    "\n",
    "- If a product has been returned before, it may be returned again. \n",
    "- Let us generate a feature indictes how many times the product has been returned before.\n",
    "- If it never got returned, we just impute using 0.\n",
    "- ***Hint:*** Group by different Product.ID"
   ]
  },
  {
   "cell_type": "code",
   "execution_count": 42,
   "metadata": {},
   "outputs": [],
   "source": [
    "returned_cnt_pID = merged_outer.groupby('Product.ID').agg('Returned').sum().reset_index()\n",
    "returned_cnt_pID.columns = ['Product.ID', 'CountReturned']\n",
    "merged_outer = merged_outer.merge(returned_cnt_pID, how='left', left_on='Product.ID', right_on='Product.ID')"
   ]
  },
  {
   "cell_type": "code",
   "execution_count": 43,
   "metadata": {},
   "outputs": [
    {
     "data": {
      "text/html": [
       "<div>\n",
       "<style scoped>\n",
       "    .dataframe tbody tr th:only-of-type {\n",
       "        vertical-align: middle;\n",
       "    }\n",
       "\n",
       "    .dataframe tbody tr th {\n",
       "        vertical-align: top;\n",
       "    }\n",
       "\n",
       "    .dataframe thead th {\n",
       "        text-align: right;\n",
       "    }\n",
       "</style>\n",
       "<table border=\"1\" class=\"dataframe\">\n",
       "  <thead>\n",
       "    <tr style=\"text-align: right;\">\n",
       "      <th></th>\n",
       "      <th>Returned</th>\n",
       "      <th>Order ID</th>\n",
       "      <th>Region_x</th>\n",
       "      <th>Row.ID</th>\n",
       "      <th>Order.ID</th>\n",
       "      <th>Order.Date</th>\n",
       "      <th>Ship.Date</th>\n",
       "      <th>Ship.Mode</th>\n",
       "      <th>Customer.ID</th>\n",
       "      <th>Customer.Name</th>\n",
       "      <th>Segment</th>\n",
       "      <th>Postal.Code</th>\n",
       "      <th>City</th>\n",
       "      <th>State</th>\n",
       "      <th>Country</th>\n",
       "      <th>Region_y</th>\n",
       "      <th>Market</th>\n",
       "      <th>Product.ID</th>\n",
       "      <th>Category</th>\n",
       "      <th>Sub.Category</th>\n",
       "      <th>Product.Name</th>\n",
       "      <th>Sales</th>\n",
       "      <th>Quantity</th>\n",
       "      <th>Discount</th>\n",
       "      <th>Profit</th>\n",
       "      <th>Shipping.Cost</th>\n",
       "      <th>Order.Priority</th>\n",
       "      <th>Month</th>\n",
       "      <th>Process.Time</th>\n",
       "      <th>CountReturned</th>\n",
       "    </tr>\n",
       "  </thead>\n",
       "  <tbody>\n",
       "    <tr>\n",
       "      <th>49178</th>\n",
       "      <td>0</td>\n",
       "      <td>NaN</td>\n",
       "      <td>NaN</td>\n",
       "      <td>43542</td>\n",
       "      <td>TU-2015-MZ7335134-42119</td>\n",
       "      <td>2015-04-25</td>\n",
       "      <td>2015-04-30</td>\n",
       "      <td>Standard Class</td>\n",
       "      <td>MZ-7335134</td>\n",
       "      <td>Maria Zettner</td>\n",
       "      <td>Home Office</td>\n",
       "      <td>NaN</td>\n",
       "      <td>Ordu</td>\n",
       "      <td>Ordu</td>\n",
       "      <td>Turkey</td>\n",
       "      <td>Western Asia</td>\n",
       "      <td>Asia Pacific</td>\n",
       "      <td>OFF-FA-5463</td>\n",
       "      <td>Office Supplies</td>\n",
       "      <td>Fasteners</td>\n",
       "      <td>OIC Clamps, Assorted Sizes</td>\n",
       "      <td>6.89</td>\n",
       "      <td>1</td>\n",
       "      <td>0.600</td>\n",
       "      <td>-4.15</td>\n",
       "      <td>1.480</td>\n",
       "      <td>Medium</td>\n",
       "      <td>4</td>\n",
       "      <td>5</td>\n",
       "      <td>0</td>\n",
       "    </tr>\n",
       "    <tr>\n",
       "      <th>23689</th>\n",
       "      <td>0</td>\n",
       "      <td>NaN</td>\n",
       "      <td>NaN</td>\n",
       "      <td>8594</td>\n",
       "      <td>US-2015-TB2140055-42160</td>\n",
       "      <td>2015-06-05</td>\n",
       "      <td>2015-06-10</td>\n",
       "      <td>Second Class</td>\n",
       "      <td>TB-2140055</td>\n",
       "      <td>Tom Boeckenhauer</td>\n",
       "      <td>Consumer</td>\n",
       "      <td>NaN</td>\n",
       "      <td>Tegucigalpa</td>\n",
       "      <td>Francisco Morazán</td>\n",
       "      <td>Honduras</td>\n",
       "      <td>Central America</td>\n",
       "      <td>LATAM</td>\n",
       "      <td>OFF-ST-6261</td>\n",
       "      <td>Office Supplies</td>\n",
       "      <td>Storage</td>\n",
       "      <td>Tenex Lockers, Blue</td>\n",
       "      <td>244.98</td>\n",
       "      <td>3</td>\n",
       "      <td>0.400</td>\n",
       "      <td>-118.44</td>\n",
       "      <td>17.511</td>\n",
       "      <td>Medium</td>\n",
       "      <td>6</td>\n",
       "      <td>5</td>\n",
       "      <td>0</td>\n",
       "    </tr>\n",
       "    <tr>\n",
       "      <th>48211</th>\n",
       "      <td>0</td>\n",
       "      <td>NaN</td>\n",
       "      <td>NaN</td>\n",
       "      <td>9727</td>\n",
       "      <td>MX-2014-SC2030582-41872</td>\n",
       "      <td>2014-08-21</td>\n",
       "      <td>2014-08-26</td>\n",
       "      <td>Standard Class</td>\n",
       "      <td>SC-2030582</td>\n",
       "      <td>Sean Christensen</td>\n",
       "      <td>Consumer</td>\n",
       "      <td>NaN</td>\n",
       "      <td>Cuernavaca</td>\n",
       "      <td>Morelos</td>\n",
       "      <td>Mexico</td>\n",
       "      <td>Central America</td>\n",
       "      <td>LATAM</td>\n",
       "      <td>OFF-LA-4685</td>\n",
       "      <td>Office Supplies</td>\n",
       "      <td>Labels</td>\n",
       "      <td>Hon Round Labels, 5000 Label Set</td>\n",
       "      <td>14.10</td>\n",
       "      <td>3</td>\n",
       "      <td>0.000</td>\n",
       "      <td>2.82</td>\n",
       "      <td>1.653</td>\n",
       "      <td>Medium</td>\n",
       "      <td>8</td>\n",
       "      <td>5</td>\n",
       "      <td>0</td>\n",
       "    </tr>\n",
       "    <tr>\n",
       "      <th>6098</th>\n",
       "      <td>0</td>\n",
       "      <td>NaN</td>\n",
       "      <td>NaN</td>\n",
       "      <td>31165</td>\n",
       "      <td>IN-2015-RS1976592-42202</td>\n",
       "      <td>2015-07-17</td>\n",
       "      <td>2015-07-19</td>\n",
       "      <td>First Class</td>\n",
       "      <td>RS-1976592</td>\n",
       "      <td>Roland Schwarz</td>\n",
       "      <td>Corporate</td>\n",
       "      <td>NaN</td>\n",
       "      <td>Timaru</td>\n",
       "      <td>Canterbury</td>\n",
       "      <td>New Zealand</td>\n",
       "      <td>Oceania</td>\n",
       "      <td>Asia Pacific</td>\n",
       "      <td>TEC-CO-3687</td>\n",
       "      <td>Technology</td>\n",
       "      <td>Copiers</td>\n",
       "      <td>Canon Fax Machine, Digital</td>\n",
       "      <td>636.06</td>\n",
       "      <td>2</td>\n",
       "      <td>0.000</td>\n",
       "      <td>12.72</td>\n",
       "      <td>146.260</td>\n",
       "      <td>High</td>\n",
       "      <td>7</td>\n",
       "      <td>2</td>\n",
       "      <td>2</td>\n",
       "    </tr>\n",
       "    <tr>\n",
       "      <th>3034</th>\n",
       "      <td>0</td>\n",
       "      <td>NaN</td>\n",
       "      <td>NaN</td>\n",
       "      <td>29552</td>\n",
       "      <td>IN-2015-SV2078559-42110</td>\n",
       "      <td>2015-04-16</td>\n",
       "      <td>2015-04-18</td>\n",
       "      <td>Second Class</td>\n",
       "      <td>SV-2078559</td>\n",
       "      <td>Stewart Visinsky</td>\n",
       "      <td>Consumer</td>\n",
       "      <td>NaN</td>\n",
       "      <td>Medan</td>\n",
       "      <td>Sumatera Utara</td>\n",
       "      <td>Indonesia</td>\n",
       "      <td>Southeastern Asia</td>\n",
       "      <td>Asia Pacific</td>\n",
       "      <td>OFF-ST-6049</td>\n",
       "      <td>Office Supplies</td>\n",
       "      <td>Storage</td>\n",
       "      <td>Smead Lockers, Wire Frame</td>\n",
       "      <td>1803.08</td>\n",
       "      <td>11</td>\n",
       "      <td>0.170</td>\n",
       "      <td>-130.39</td>\n",
       "      <td>332.130</td>\n",
       "      <td>High</td>\n",
       "      <td>4</td>\n",
       "      <td>2</td>\n",
       "      <td>1</td>\n",
       "    </tr>\n",
       "    <tr>\n",
       "      <th>32789</th>\n",
       "      <td>0</td>\n",
       "      <td>NaN</td>\n",
       "      <td>NaN</td>\n",
       "      <td>10513</td>\n",
       "      <td>ES-2015-LC1696064-42058</td>\n",
       "      <td>2015-02-23</td>\n",
       "      <td>2015-02-27</td>\n",
       "      <td>Standard Class</td>\n",
       "      <td>LC-1696064</td>\n",
       "      <td>Lindsay Castell</td>\n",
       "      <td>Home Office</td>\n",
       "      <td>NaN</td>\n",
       "      <td>Rome</td>\n",
       "      <td>Lazio</td>\n",
       "      <td>Italy</td>\n",
       "      <td>Southern Europe</td>\n",
       "      <td>Europe</td>\n",
       "      <td>OFF-ST-4253</td>\n",
       "      <td>Office Supplies</td>\n",
       "      <td>Storage</td>\n",
       "      <td>Fellowes Box, Wire Frame</td>\n",
       "      <td>112.50</td>\n",
       "      <td>10</td>\n",
       "      <td>0.400</td>\n",
       "      <td>11.10</td>\n",
       "      <td>11.460</td>\n",
       "      <td>Medium</td>\n",
       "      <td>2</td>\n",
       "      <td>4</td>\n",
       "      <td>2</td>\n",
       "    </tr>\n",
       "    <tr>\n",
       "      <th>26478</th>\n",
       "      <td>0</td>\n",
       "      <td>NaN</td>\n",
       "      <td>NaN</td>\n",
       "      <td>24723</td>\n",
       "      <td>IN-2013-CS1240027-41294</td>\n",
       "      <td>2013-01-20</td>\n",
       "      <td>2013-01-22</td>\n",
       "      <td>Second Class</td>\n",
       "      <td>CS-1240027</td>\n",
       "      <td>Christopher Schild</td>\n",
       "      <td>Home Office</td>\n",
       "      <td>NaN</td>\n",
       "      <td>Taiyuan</td>\n",
       "      <td>Shanxi</td>\n",
       "      <td>China</td>\n",
       "      <td>Eastern Asia</td>\n",
       "      <td>Asia Pacific</td>\n",
       "      <td>OFF-BI-2893</td>\n",
       "      <td>Office Supplies</td>\n",
       "      <td>Binders</td>\n",
       "      <td>Acco Binder Covers, Economy</td>\n",
       "      <td>39.96</td>\n",
       "      <td>3</td>\n",
       "      <td>0.000</td>\n",
       "      <td>5.94</td>\n",
       "      <td>4.340</td>\n",
       "      <td>Medium</td>\n",
       "      <td>1</td>\n",
       "      <td>2</td>\n",
       "      <td>2</td>\n",
       "    </tr>\n",
       "    <tr>\n",
       "      <th>4412</th>\n",
       "      <td>0</td>\n",
       "      <td>NaN</td>\n",
       "      <td>NaN</td>\n",
       "      <td>33952</td>\n",
       "      <td>CA-2015-AS10225140-42265</td>\n",
       "      <td>2015-09-18</td>\n",
       "      <td>2015-09-22</td>\n",
       "      <td>Second Class</td>\n",
       "      <td>AS-102251404</td>\n",
       "      <td>Alan Schoenberger</td>\n",
       "      <td>Corporate</td>\n",
       "      <td>84604.0</td>\n",
       "      <td>Provo</td>\n",
       "      <td>Utah</td>\n",
       "      <td>United States</td>\n",
       "      <td>Western US</td>\n",
       "      <td>USCA</td>\n",
       "      <td>OFF-BI-4356</td>\n",
       "      <td>Office Supplies</td>\n",
       "      <td>Binders</td>\n",
       "      <td>GBC Pre-Punched Binding Paper, Plastic, White,...</td>\n",
       "      <td>25.58</td>\n",
       "      <td>2</td>\n",
       "      <td>0.200</td>\n",
       "      <td>8.95</td>\n",
       "      <td>4.150</td>\n",
       "      <td>Medium</td>\n",
       "      <td>9</td>\n",
       "      <td>4</td>\n",
       "      <td>0</td>\n",
       "    </tr>\n",
       "    <tr>\n",
       "      <th>50742</th>\n",
       "      <td>0</td>\n",
       "      <td>NaN</td>\n",
       "      <td>NaN</td>\n",
       "      <td>43791</td>\n",
       "      <td>TU-2013-DJ3630134-41335</td>\n",
       "      <td>2013-03-02</td>\n",
       "      <td>2013-03-06</td>\n",
       "      <td>Standard Class</td>\n",
       "      <td>DJ-3630134</td>\n",
       "      <td>Doug Jacobs</td>\n",
       "      <td>Consumer</td>\n",
       "      <td>NaN</td>\n",
       "      <td>Eskisehir</td>\n",
       "      <td>Eskisehir</td>\n",
       "      <td>Turkey</td>\n",
       "      <td>Western Asia</td>\n",
       "      <td>Asia Pacific</td>\n",
       "      <td>OFF-BI-3292</td>\n",
       "      <td>Office Supplies</td>\n",
       "      <td>Binders</td>\n",
       "      <td>Avery Hole Reinforcements, Recycled</td>\n",
       "      <td>1.91</td>\n",
       "      <td>1</td>\n",
       "      <td>0.600</td>\n",
       "      <td>-0.82</td>\n",
       "      <td>1.180</td>\n",
       "      <td>Medium</td>\n",
       "      <td>3</td>\n",
       "      <td>4</td>\n",
       "      <td>3</td>\n",
       "    </tr>\n",
       "    <tr>\n",
       "      <th>21658</th>\n",
       "      <td>0</td>\n",
       "      <td>NaN</td>\n",
       "      <td>NaN</td>\n",
       "      <td>5103</td>\n",
       "      <td>MX-2015-JB1604593-42320</td>\n",
       "      <td>2015-11-12</td>\n",
       "      <td>2015-11-18</td>\n",
       "      <td>Standard Class</td>\n",
       "      <td>JB-1604593</td>\n",
       "      <td>Julia Barnett</td>\n",
       "      <td>Home Office</td>\n",
       "      <td>NaN</td>\n",
       "      <td>Managua</td>\n",
       "      <td>Managua</td>\n",
       "      <td>Nicaragua</td>\n",
       "      <td>Central America</td>\n",
       "      <td>LATAM</td>\n",
       "      <td>TEC-CO-6009</td>\n",
       "      <td>Technology</td>\n",
       "      <td>Copiers</td>\n",
       "      <td>Sharp Wireless Fax, Color</td>\n",
       "      <td>475.53</td>\n",
       "      <td>2</td>\n",
       "      <td>0.002</td>\n",
       "      <td>218.21</td>\n",
       "      <td>29.765</td>\n",
       "      <td>Medium</td>\n",
       "      <td>11</td>\n",
       "      <td>6</td>\n",
       "      <td>0</td>\n",
       "    </tr>\n",
       "    <tr>\n",
       "      <th>43532</th>\n",
       "      <td>0</td>\n",
       "      <td>NaN</td>\n",
       "      <td>NaN</td>\n",
       "      <td>30418</td>\n",
       "      <td>ID-2013-AF108707-41458</td>\n",
       "      <td>2013-07-03</td>\n",
       "      <td>2013-07-08</td>\n",
       "      <td>Standard Class</td>\n",
       "      <td>AF-108707</td>\n",
       "      <td>Art Ferguson</td>\n",
       "      <td>Consumer</td>\n",
       "      <td>NaN</td>\n",
       "      <td>Caloundra</td>\n",
       "      <td>Queensland</td>\n",
       "      <td>Australia</td>\n",
       "      <td>Oceania</td>\n",
       "      <td>Asia Pacific</td>\n",
       "      <td>OFF-AR-5911</td>\n",
       "      <td>Office Supplies</td>\n",
       "      <td>Art</td>\n",
       "      <td>Sanford Highlighters, Easy-Erase</td>\n",
       "      <td>19.22</td>\n",
       "      <td>2</td>\n",
       "      <td>0.400</td>\n",
       "      <td>-11.56</td>\n",
       "      <td>1.720</td>\n",
       "      <td>Medium</td>\n",
       "      <td>7</td>\n",
       "      <td>5</td>\n",
       "      <td>0</td>\n",
       "    </tr>\n",
       "    <tr>\n",
       "      <th>33184</th>\n",
       "      <td>0</td>\n",
       "      <td>NaN</td>\n",
       "      <td>NaN</td>\n",
       "      <td>4886</td>\n",
       "      <td>MX-2012-DL1333031-41106</td>\n",
       "      <td>2012-07-16</td>\n",
       "      <td>2012-07-20</td>\n",
       "      <td>Standard Class</td>\n",
       "      <td>DL-1333031</td>\n",
       "      <td>Denise Leinenbach</td>\n",
       "      <td>Consumer</td>\n",
       "      <td>NaN</td>\n",
       "      <td>Holguín</td>\n",
       "      <td>Holguín</td>\n",
       "      <td>Cuba</td>\n",
       "      <td>Caribbean</td>\n",
       "      <td>LATAM</td>\n",
       "      <td>OFF-EN-3658</td>\n",
       "      <td>Office Supplies</td>\n",
       "      <td>Envelopes</td>\n",
       "      <td>Cameo Clasp Envelope, Security-Tint</td>\n",
       "      <td>71.46</td>\n",
       "      <td>9</td>\n",
       "      <td>0.000</td>\n",
       "      <td>9.18</td>\n",
       "      <td>7.065</td>\n",
       "      <td>High</td>\n",
       "      <td>7</td>\n",
       "      <td>4</td>\n",
       "      <td>1</td>\n",
       "    </tr>\n",
       "    <tr>\n",
       "      <th>17573</th>\n",
       "      <td>0</td>\n",
       "      <td>NaN</td>\n",
       "      <td>NaN</td>\n",
       "      <td>6901</td>\n",
       "      <td>MX-2015-AF1088582-42217</td>\n",
       "      <td>2015-08-01</td>\n",
       "      <td>2015-08-07</td>\n",
       "      <td>Standard Class</td>\n",
       "      <td>AF-1088582</td>\n",
       "      <td>Art Foster</td>\n",
       "      <td>Consumer</td>\n",
       "      <td>NaN</td>\n",
       "      <td>Acuña</td>\n",
       "      <td>Coahuila</td>\n",
       "      <td>Mexico</td>\n",
       "      <td>Central America</td>\n",
       "      <td>LATAM</td>\n",
       "      <td>FUR-CH-4655</td>\n",
       "      <td>Furniture</td>\n",
       "      <td>Chairs</td>\n",
       "      <td>Hon Executive Leather Armchair, Black</td>\n",
       "      <td>487.62</td>\n",
       "      <td>2</td>\n",
       "      <td>0.200</td>\n",
       "      <td>79.22</td>\n",
       "      <td>41.999</td>\n",
       "      <td>Medium</td>\n",
       "      <td>8</td>\n",
       "      <td>6</td>\n",
       "      <td>2</td>\n",
       "    </tr>\n",
       "    <tr>\n",
       "      <th>9335</th>\n",
       "      <td>0</td>\n",
       "      <td>NaN</td>\n",
       "      <td>NaN</td>\n",
       "      <td>45603</td>\n",
       "      <td>GV-2013-TB1140052-41458</td>\n",
       "      <td>2013-07-03</td>\n",
       "      <td>2013-07-07</td>\n",
       "      <td>Standard Class</td>\n",
       "      <td>TB-1140052</td>\n",
       "      <td>Tom Boeckenhauer</td>\n",
       "      <td>Consumer</td>\n",
       "      <td>NaN</td>\n",
       "      <td>Kankan</td>\n",
       "      <td>Kankan</td>\n",
       "      <td>Guinea</td>\n",
       "      <td>Western Africa</td>\n",
       "      <td>Africa</td>\n",
       "      <td>OFF-ST-6272</td>\n",
       "      <td>Office Supplies</td>\n",
       "      <td>Storage</td>\n",
       "      <td>Tenex Shelving, Blue</td>\n",
       "      <td>109.32</td>\n",
       "      <td>2</td>\n",
       "      <td>0.000</td>\n",
       "      <td>5.46</td>\n",
       "      <td>6.260</td>\n",
       "      <td>Medium</td>\n",
       "      <td>7</td>\n",
       "      <td>4</td>\n",
       "      <td>1</td>\n",
       "    </tr>\n",
       "    <tr>\n",
       "      <th>12778</th>\n",
       "      <td>0</td>\n",
       "      <td>NaN</td>\n",
       "      <td>NaN</td>\n",
       "      <td>19771</td>\n",
       "      <td>ES-2014-PP1895545-41689</td>\n",
       "      <td>2014-02-19</td>\n",
       "      <td>2014-02-25</td>\n",
       "      <td>Standard Class</td>\n",
       "      <td>PP-1895545</td>\n",
       "      <td>Paul Prost</td>\n",
       "      <td>Home Office</td>\n",
       "      <td>NaN</td>\n",
       "      <td>Wattrelos</td>\n",
       "      <td>Nord-Pas-de-Calais-Picardie</td>\n",
       "      <td>France</td>\n",
       "      <td>Western Europe</td>\n",
       "      <td>Europe</td>\n",
       "      <td>OFF-PA-5879</td>\n",
       "      <td>Office Supplies</td>\n",
       "      <td>Paper</td>\n",
       "      <td>SanDisk Message Books, Recycled</td>\n",
       "      <td>118.65</td>\n",
       "      <td>5</td>\n",
       "      <td>0.000</td>\n",
       "      <td>53.25</td>\n",
       "      <td>16.950</td>\n",
       "      <td>Low</td>\n",
       "      <td>2</td>\n",
       "      <td>6</td>\n",
       "      <td>1</td>\n",
       "    </tr>\n",
       "    <tr>\n",
       "      <th>32901</th>\n",
       "      <td>0</td>\n",
       "      <td>NaN</td>\n",
       "      <td>NaN</td>\n",
       "      <td>40147</td>\n",
       "      <td>CA-2013-FA14230140-41457</td>\n",
       "      <td>2013-07-02</td>\n",
       "      <td>2013-07-04</td>\n",
       "      <td>First Class</td>\n",
       "      <td>FA-142301408</td>\n",
       "      <td>Frank Atkinson</td>\n",
       "      <td>Corporate</td>\n",
       "      <td>27604.0</td>\n",
       "      <td>Raleigh</td>\n",
       "      <td>North Carolina</td>\n",
       "      <td>United States</td>\n",
       "      <td>Southern US</td>\n",
       "      <td>USCA</td>\n",
       "      <td>OFF-BI-6412</td>\n",
       "      <td>Office Supplies</td>\n",
       "      <td>Binders</td>\n",
       "      <td>Wilson Jones Turn Tabs Binder Tool for Ring Bi...</td>\n",
       "      <td>2.89</td>\n",
       "      <td>2</td>\n",
       "      <td>0.700</td>\n",
       "      <td>-2.31</td>\n",
       "      <td>1.500</td>\n",
       "      <td>High</td>\n",
       "      <td>7</td>\n",
       "      <td>2</td>\n",
       "      <td>1</td>\n",
       "    </tr>\n",
       "    <tr>\n",
       "      <th>51174</th>\n",
       "      <td>0</td>\n",
       "      <td>NaN</td>\n",
       "      <td>NaN</td>\n",
       "      <td>35782</td>\n",
       "      <td>CA-2014-XP21865140-41947</td>\n",
       "      <td>2014-11-04</td>\n",
       "      <td>2014-11-09</td>\n",
       "      <td>Standard Class</td>\n",
       "      <td>XP-218651404</td>\n",
       "      <td>Xylona Preis</td>\n",
       "      <td>Consumer</td>\n",
       "      <td>90049.0</td>\n",
       "      <td>Los Angeles</td>\n",
       "      <td>California</td>\n",
       "      <td>United States</td>\n",
       "      <td>Western US</td>\n",
       "      <td>USCA</td>\n",
       "      <td>OFF-PA-6583</td>\n",
       "      <td>Office Supplies</td>\n",
       "      <td>Paper</td>\n",
       "      <td>Xerox 22</td>\n",
       "      <td>19.44</td>\n",
       "      <td>3</td>\n",
       "      <td>0.000</td>\n",
       "      <td>9.33</td>\n",
       "      <td>1.300</td>\n",
       "      <td>Medium</td>\n",
       "      <td>11</td>\n",
       "      <td>5</td>\n",
       "      <td>0</td>\n",
       "    </tr>\n",
       "    <tr>\n",
       "      <th>8610</th>\n",
       "      <td>0</td>\n",
       "      <td>NaN</td>\n",
       "      <td>NaN</td>\n",
       "      <td>35105</td>\n",
       "      <td>CA-2013-AH10690140-41590</td>\n",
       "      <td>2013-11-12</td>\n",
       "      <td>2013-11-19</td>\n",
       "      <td>Standard Class</td>\n",
       "      <td>AH-106901408</td>\n",
       "      <td>Anna Häberlin</td>\n",
       "      <td>Corporate</td>\n",
       "      <td>33317.0</td>\n",
       "      <td>Plantation</td>\n",
       "      <td>Florida</td>\n",
       "      <td>United States</td>\n",
       "      <td>Southern US</td>\n",
       "      <td>USCA</td>\n",
       "      <td>OFF-BI-6018</td>\n",
       "      <td>Office Supplies</td>\n",
       "      <td>Binders</td>\n",
       "      <td>SlimView Poly Binder, 3/8\"</td>\n",
       "      <td>4.66</td>\n",
       "      <td>3</td>\n",
       "      <td>0.700</td>\n",
       "      <td>-3.73</td>\n",
       "      <td>1.390</td>\n",
       "      <td>Medium</td>\n",
       "      <td>11</td>\n",
       "      <td>7</td>\n",
       "      <td>0</td>\n",
       "    </tr>\n",
       "    <tr>\n",
       "      <th>47340</th>\n",
       "      <td>0</td>\n",
       "      <td>NaN</td>\n",
       "      <td>NaN</td>\n",
       "      <td>14840</td>\n",
       "      <td>ES-2015-SW2045545-42206</td>\n",
       "      <td>2015-07-21</td>\n",
       "      <td>2015-07-23</td>\n",
       "      <td>First Class</td>\n",
       "      <td>SW-2045545</td>\n",
       "      <td>Shaun Weien</td>\n",
       "      <td>Consumer</td>\n",
       "      <td>NaN</td>\n",
       "      <td>Marseille</td>\n",
       "      <td>Provence-Alpes-Côte d'Azur</td>\n",
       "      <td>France</td>\n",
       "      <td>Western Europe</td>\n",
       "      <td>Europe</td>\n",
       "      <td>OFF-BI-6402</td>\n",
       "      <td>Office Supplies</td>\n",
       "      <td>Binders</td>\n",
       "      <td>Wilson Jones Index Tab, Clear</td>\n",
       "      <td>5.91</td>\n",
       "      <td>1</td>\n",
       "      <td>0.000</td>\n",
       "      <td>0.51</td>\n",
       "      <td>1.810</td>\n",
       "      <td>Medium</td>\n",
       "      <td>7</td>\n",
       "      <td>2</td>\n",
       "      <td>0</td>\n",
       "    </tr>\n",
       "    <tr>\n",
       "      <th>203</th>\n",
       "      <td>1</td>\n",
       "      <td>ID-2013-SC2080059-41380</td>\n",
       "      <td>Southeastern Asia</td>\n",
       "      <td>24182</td>\n",
       "      <td>ID-2013-SC2080059-41380</td>\n",
       "      <td>2013-04-16</td>\n",
       "      <td>2013-04-22</td>\n",
       "      <td>Standard Class</td>\n",
       "      <td>SC-2080059</td>\n",
       "      <td>Stuart Calhoun</td>\n",
       "      <td>Consumer</td>\n",
       "      <td>NaN</td>\n",
       "      <td>Surakarta</td>\n",
       "      <td>Jawa Tengah</td>\n",
       "      <td>Indonesia</td>\n",
       "      <td>Southeastern Asia</td>\n",
       "      <td>Asia Pacific</td>\n",
       "      <td>TEC-AC-5218</td>\n",
       "      <td>Technology</td>\n",
       "      <td>Accessories</td>\n",
       "      <td>Memorex Mouse, Programmable</td>\n",
       "      <td>62.90</td>\n",
       "      <td>4</td>\n",
       "      <td>0.470</td>\n",
       "      <td>-27.34</td>\n",
       "      <td>8.240</td>\n",
       "      <td>Low</td>\n",
       "      <td>4</td>\n",
       "      <td>6</td>\n",
       "      <td>2</td>\n",
       "    </tr>\n",
       "  </tbody>\n",
       "</table>\n",
       "</div>"
      ],
      "text/plain": [
       "       Returned                 Order ID           Region_x  Row.ID  \\\n",
       "49178         0                      NaN                NaN   43542   \n",
       "23689         0                      NaN                NaN    8594   \n",
       "48211         0                      NaN                NaN    9727   \n",
       "6098          0                      NaN                NaN   31165   \n",
       "3034          0                      NaN                NaN   29552   \n",
       "32789         0                      NaN                NaN   10513   \n",
       "26478         0                      NaN                NaN   24723   \n",
       "4412          0                      NaN                NaN   33952   \n",
       "50742         0                      NaN                NaN   43791   \n",
       "21658         0                      NaN                NaN    5103   \n",
       "43532         0                      NaN                NaN   30418   \n",
       "33184         0                      NaN                NaN    4886   \n",
       "17573         0                      NaN                NaN    6901   \n",
       "9335          0                      NaN                NaN   45603   \n",
       "12778         0                      NaN                NaN   19771   \n",
       "32901         0                      NaN                NaN   40147   \n",
       "51174         0                      NaN                NaN   35782   \n",
       "8610          0                      NaN                NaN   35105   \n",
       "47340         0                      NaN                NaN   14840   \n",
       "203           1  ID-2013-SC2080059-41380  Southeastern Asia   24182   \n",
       "\n",
       "                       Order.ID Order.Date  Ship.Date       Ship.Mode  \\\n",
       "49178   TU-2015-MZ7335134-42119 2015-04-25 2015-04-30  Standard Class   \n",
       "23689   US-2015-TB2140055-42160 2015-06-05 2015-06-10    Second Class   \n",
       "48211   MX-2014-SC2030582-41872 2014-08-21 2014-08-26  Standard Class   \n",
       "6098    IN-2015-RS1976592-42202 2015-07-17 2015-07-19     First Class   \n",
       "3034    IN-2015-SV2078559-42110 2015-04-16 2015-04-18    Second Class   \n",
       "32789   ES-2015-LC1696064-42058 2015-02-23 2015-02-27  Standard Class   \n",
       "26478   IN-2013-CS1240027-41294 2013-01-20 2013-01-22    Second Class   \n",
       "4412   CA-2015-AS10225140-42265 2015-09-18 2015-09-22    Second Class   \n",
       "50742   TU-2013-DJ3630134-41335 2013-03-02 2013-03-06  Standard Class   \n",
       "21658   MX-2015-JB1604593-42320 2015-11-12 2015-11-18  Standard Class   \n",
       "43532    ID-2013-AF108707-41458 2013-07-03 2013-07-08  Standard Class   \n",
       "33184   MX-2012-DL1333031-41106 2012-07-16 2012-07-20  Standard Class   \n",
       "17573   MX-2015-AF1088582-42217 2015-08-01 2015-08-07  Standard Class   \n",
       "9335    GV-2013-TB1140052-41458 2013-07-03 2013-07-07  Standard Class   \n",
       "12778   ES-2014-PP1895545-41689 2014-02-19 2014-02-25  Standard Class   \n",
       "32901  CA-2013-FA14230140-41457 2013-07-02 2013-07-04     First Class   \n",
       "51174  CA-2014-XP21865140-41947 2014-11-04 2014-11-09  Standard Class   \n",
       "8610   CA-2013-AH10690140-41590 2013-11-12 2013-11-19  Standard Class   \n",
       "47340   ES-2015-SW2045545-42206 2015-07-21 2015-07-23     First Class   \n",
       "203     ID-2013-SC2080059-41380 2013-04-16 2013-04-22  Standard Class   \n",
       "\n",
       "        Customer.ID       Customer.Name      Segment  Postal.Code  \\\n",
       "49178    MZ-7335134       Maria Zettner  Home Office          NaN   \n",
       "23689    TB-2140055    Tom Boeckenhauer     Consumer          NaN   \n",
       "48211    SC-2030582    Sean Christensen     Consumer          NaN   \n",
       "6098     RS-1976592      Roland Schwarz    Corporate          NaN   \n",
       "3034     SV-2078559    Stewart Visinsky     Consumer          NaN   \n",
       "32789    LC-1696064     Lindsay Castell  Home Office          NaN   \n",
       "26478    CS-1240027  Christopher Schild  Home Office          NaN   \n",
       "4412   AS-102251404   Alan Schoenberger    Corporate      84604.0   \n",
       "50742    DJ-3630134         Doug Jacobs     Consumer          NaN   \n",
       "21658    JB-1604593       Julia Barnett  Home Office          NaN   \n",
       "43532     AF-108707        Art Ferguson     Consumer          NaN   \n",
       "33184    DL-1333031   Denise Leinenbach     Consumer          NaN   \n",
       "17573    AF-1088582          Art Foster     Consumer          NaN   \n",
       "9335     TB-1140052    Tom Boeckenhauer     Consumer          NaN   \n",
       "12778    PP-1895545          Paul Prost  Home Office          NaN   \n",
       "32901  FA-142301408      Frank Atkinson    Corporate      27604.0   \n",
       "51174  XP-218651404        Xylona Preis     Consumer      90049.0   \n",
       "8610   AH-106901408       Anna Häberlin    Corporate      33317.0   \n",
       "47340    SW-2045545         Shaun Weien     Consumer          NaN   \n",
       "203      SC-2080059      Stuart Calhoun     Consumer          NaN   \n",
       "\n",
       "              City                        State        Country  \\\n",
       "49178         Ordu                         Ordu         Turkey   \n",
       "23689  Tegucigalpa            Francisco Morazán       Honduras   \n",
       "48211   Cuernavaca                      Morelos         Mexico   \n",
       "6098        Timaru                   Canterbury    New Zealand   \n",
       "3034         Medan               Sumatera Utara      Indonesia   \n",
       "32789         Rome                        Lazio          Italy   \n",
       "26478      Taiyuan                       Shanxi          China   \n",
       "4412         Provo                         Utah  United States   \n",
       "50742    Eskisehir                    Eskisehir         Turkey   \n",
       "21658      Managua                      Managua      Nicaragua   \n",
       "43532    Caloundra                   Queensland      Australia   \n",
       "33184      Holguín                      Holguín           Cuba   \n",
       "17573        Acuña                     Coahuila         Mexico   \n",
       "9335        Kankan                       Kankan         Guinea   \n",
       "12778    Wattrelos  Nord-Pas-de-Calais-Picardie         France   \n",
       "32901      Raleigh               North Carolina  United States   \n",
       "51174  Los Angeles                   California  United States   \n",
       "8610    Plantation                      Florida  United States   \n",
       "47340    Marseille   Provence-Alpes-Côte d'Azur         France   \n",
       "203      Surakarta                  Jawa Tengah      Indonesia   \n",
       "\n",
       "                Region_y        Market   Product.ID         Category  \\\n",
       "49178       Western Asia  Asia Pacific  OFF-FA-5463  Office Supplies   \n",
       "23689    Central America         LATAM  OFF-ST-6261  Office Supplies   \n",
       "48211    Central America         LATAM  OFF-LA-4685  Office Supplies   \n",
       "6098             Oceania  Asia Pacific  TEC-CO-3687       Technology   \n",
       "3034   Southeastern Asia  Asia Pacific  OFF-ST-6049  Office Supplies   \n",
       "32789    Southern Europe        Europe  OFF-ST-4253  Office Supplies   \n",
       "26478       Eastern Asia  Asia Pacific  OFF-BI-2893  Office Supplies   \n",
       "4412          Western US          USCA  OFF-BI-4356  Office Supplies   \n",
       "50742       Western Asia  Asia Pacific  OFF-BI-3292  Office Supplies   \n",
       "21658    Central America         LATAM  TEC-CO-6009       Technology   \n",
       "43532            Oceania  Asia Pacific  OFF-AR-5911  Office Supplies   \n",
       "33184          Caribbean         LATAM  OFF-EN-3658  Office Supplies   \n",
       "17573    Central America         LATAM  FUR-CH-4655        Furniture   \n",
       "9335      Western Africa        Africa  OFF-ST-6272  Office Supplies   \n",
       "12778     Western Europe        Europe  OFF-PA-5879  Office Supplies   \n",
       "32901        Southern US          USCA  OFF-BI-6412  Office Supplies   \n",
       "51174         Western US          USCA  OFF-PA-6583  Office Supplies   \n",
       "8610         Southern US          USCA  OFF-BI-6018  Office Supplies   \n",
       "47340     Western Europe        Europe  OFF-BI-6402  Office Supplies   \n",
       "203    Southeastern Asia  Asia Pacific  TEC-AC-5218       Technology   \n",
       "\n",
       "      Sub.Category                                       Product.Name  \\\n",
       "49178    Fasteners                         OIC Clamps, Assorted Sizes   \n",
       "23689      Storage                                Tenex Lockers, Blue   \n",
       "48211       Labels                   Hon Round Labels, 5000 Label Set   \n",
       "6098       Copiers                         Canon Fax Machine, Digital   \n",
       "3034       Storage                          Smead Lockers, Wire Frame   \n",
       "32789      Storage                           Fellowes Box, Wire Frame   \n",
       "26478      Binders                        Acco Binder Covers, Economy   \n",
       "4412       Binders  GBC Pre-Punched Binding Paper, Plastic, White,...   \n",
       "50742      Binders                Avery Hole Reinforcements, Recycled   \n",
       "21658      Copiers                          Sharp Wireless Fax, Color   \n",
       "43532          Art                   Sanford Highlighters, Easy-Erase   \n",
       "33184    Envelopes                Cameo Clasp Envelope, Security-Tint   \n",
       "17573       Chairs              Hon Executive Leather Armchair, Black   \n",
       "9335       Storage                               Tenex Shelving, Blue   \n",
       "12778        Paper                    SanDisk Message Books, Recycled   \n",
       "32901      Binders  Wilson Jones Turn Tabs Binder Tool for Ring Bi...   \n",
       "51174        Paper                                           Xerox 22   \n",
       "8610       Binders                         SlimView Poly Binder, 3/8\"   \n",
       "47340      Binders                      Wilson Jones Index Tab, Clear   \n",
       "203    Accessories                        Memorex Mouse, Programmable   \n",
       "\n",
       "         Sales  Quantity  Discount  Profit  Shipping.Cost Order.Priority  \\\n",
       "49178     6.89         1     0.600   -4.15          1.480         Medium   \n",
       "23689   244.98         3     0.400 -118.44         17.511         Medium   \n",
       "48211    14.10         3     0.000    2.82          1.653         Medium   \n",
       "6098    636.06         2     0.000   12.72        146.260           High   \n",
       "3034   1803.08        11     0.170 -130.39        332.130           High   \n",
       "32789   112.50        10     0.400   11.10         11.460         Medium   \n",
       "26478    39.96         3     0.000    5.94          4.340         Medium   \n",
       "4412     25.58         2     0.200    8.95          4.150         Medium   \n",
       "50742     1.91         1     0.600   -0.82          1.180         Medium   \n",
       "21658   475.53         2     0.002  218.21         29.765         Medium   \n",
       "43532    19.22         2     0.400  -11.56          1.720         Medium   \n",
       "33184    71.46         9     0.000    9.18          7.065           High   \n",
       "17573   487.62         2     0.200   79.22         41.999         Medium   \n",
       "9335    109.32         2     0.000    5.46          6.260         Medium   \n",
       "12778   118.65         5     0.000   53.25         16.950            Low   \n",
       "32901     2.89         2     0.700   -2.31          1.500           High   \n",
       "51174    19.44         3     0.000    9.33          1.300         Medium   \n",
       "8610      4.66         3     0.700   -3.73          1.390         Medium   \n",
       "47340     5.91         1     0.000    0.51          1.810         Medium   \n",
       "203      62.90         4     0.470  -27.34          8.240            Low   \n",
       "\n",
       "       Month  Process.Time  CountReturned  \n",
       "49178      4             5              0  \n",
       "23689      6             5              0  \n",
       "48211      8             5              0  \n",
       "6098       7             2              2  \n",
       "3034       4             2              1  \n",
       "32789      2             4              2  \n",
       "26478      1             2              2  \n",
       "4412       9             4              0  \n",
       "50742      3             4              3  \n",
       "21658     11             6              0  \n",
       "43532      7             5              0  \n",
       "33184      7             4              1  \n",
       "17573      8             6              2  \n",
       "9335       7             4              1  \n",
       "12778      2             6              1  \n",
       "32901      7             2              1  \n",
       "51174     11             5              0  \n",
       "8610      11             7              0  \n",
       "47340      7             2              0  \n",
       "203        4             6              2  "
      ]
     },
     "execution_count": 43,
     "metadata": {},
     "output_type": "execute_result"
    }
   ],
   "source": [
    "merged_outer.sample(20)"
   ]
  },
  {
   "cell_type": "code",
   "execution_count": 44,
   "metadata": {},
   "outputs": [
    {
     "data": {
      "text/plain": [
       "0     21535\n",
       "1     16007\n",
       "2      8351\n",
       "3      3715\n",
       "4       869\n",
       "5       379\n",
       "12      227\n",
       "6       130\n",
       "9        77\n",
       "Name: CountReturned, dtype: int64"
      ]
     },
     "execution_count": 44,
     "metadata": {},
     "output_type": "execute_result"
    }
   ],
   "source": [
    "merged_outer.CountReturned.value_counts()"
   ]
  },
  {
   "cell_type": "markdown",
   "metadata": {},
   "source": [
    "### Problem 5: Fitting Models\n",
    "\n",
    "- You can use any binary classification method you have learned so far.\n",
    "- Use 80/20 training and test splits to build your model. \n",
    "- Double check the column types before you fit the model.\n",
    "- Only include useful features. i.e all the `ID`s should be excluded from your training set.\n",
    "- Note that there are only less than 5% of the orders have been returned, so you should consider using the [createDataPartition](https://www.rdocumentation.org/packages/caret/versions/6.0-80/topics/createDataPartition) function from `caret` package and [StratifiedKfold](http://scikit-learn.org/stable/modules/generated/sklearn.model_selection.StratifiedKFold.html#sklearn-model-selection-stratifiedkfold) from sklearn when running cross-validation.\n",
    "- Do forget to `set.seed()` before the spilt to make your result reproducible.\n",
    "- **Note:** We are not looking for the best tuned model in the lab so don't spend too much time on grid search. Focus on model evaluation and the business use case of each model.\n"
   ]
  },
  {
   "cell_type": "code",
   "execution_count": 45,
   "metadata": {},
   "outputs": [],
   "source": [
    "#Drop Ship.Date because it's related to Order.Date and Process.Time\n",
    "#Dropped ID features.\n",
    "useful_features = ['Returned', 'Ship.Mode', 'Market', 'Category',\n",
    "                   'Sales', 'Quantity', 'Profit', 'Shipping.Cost', 'Order.Priority',\n",
    "                  'Month', 'Process.Time', 'CountReturned']\n",
    "np.random.seed(1)\n"
   ]
  },
  {
   "cell_type": "code",
   "execution_count": 46,
   "metadata": {},
   "outputs": [],
   "source": [
    "reduced_df = merged_outer[useful_features]"
   ]
  },
  {
   "cell_type": "code",
   "execution_count": 47,
   "metadata": {},
   "outputs": [
    {
     "name": "stderr",
     "output_type": "stream",
     "text": [
      "/Users/jonpresley/anaconda3/envs/motionflow/lib/python3.7/site-packages/pandas/core/frame.py:3940: SettingWithCopyWarning: \n",
      "A value is trying to be set on a copy of a slice from a DataFrame\n",
      "\n",
      "See the caveats in the documentation: http://pandas.pydata.org/pandas-docs/stable/indexing.html#indexing-view-versus-copy\n",
      "  errors=errors)\n"
     ]
    }
   ],
   "source": [
    "nom_features = ['Ship.Mode', 'Market', 'Category', 'Order.Priority']\n",
    "\n",
    "#Dummify the Categorical Variables.\n",
    "for variable in nom_features:\n",
    "    dummy = pd.get_dummies(reduced_df[variable], prefix=variable, prefix_sep='_')\n",
    "    dummy.drop(list(dummy.columns)[0], axis=1, inplace=True) #Drop 1st dummy is the dominant category\n",
    "    reduced_df.drop(variable, axis=1, inplace=True) #Drop original categorical column\n",
    "    reduced_df = pd.concat([reduced_df, dummy], axis=1) #concat train with dummy dataframes\n"
   ]
  },
  {
   "cell_type": "code",
   "execution_count": 48,
   "metadata": {},
   "outputs": [],
   "source": [
    "from sklearn.model_selection import train_test_split\n",
    "X = reduced_df.loc[:, reduced_df.columns != 'Returned']\n",
    "y = reduced_df['Returned']"
   ]
  },
  {
   "cell_type": "code",
   "execution_count": 49,
   "metadata": {},
   "outputs": [
    {
     "data": {
      "text/plain": [
       "0    49070\n",
       "1     2220\n",
       "Name: Returned, dtype: int64"
      ]
     },
     "execution_count": 49,
     "metadata": {},
     "output_type": "execute_result"
    }
   ],
   "source": [
    "y.value_counts()"
   ]
  },
  {
   "cell_type": "code",
   "execution_count": 50,
   "metadata": {},
   "outputs": [],
   "source": [
    "from sklearn.model_selection import train_test_split\n",
    "X_train, X_test, Y_train, Y_test = train_test_split(X, y, test_size=0.2, stratify = y)"
   ]
  },
  {
   "cell_type": "markdown",
   "metadata": {},
   "source": [
    "## Up-Sampling the Minority Class --- SKIP"
   ]
  },
  {
   "cell_type": "code",
   "execution_count": 51,
   "metadata": {},
   "outputs": [
    {
     "data": {
      "text/plain": [
       "array(['CA-2012-SA20830140-41210', 'IN-2012-PB19210127-41259',\n",
       "       'IN-2012-PB19210127-41259', ..., 'US-2013-SJ2021582-41543',\n",
       "       'CA-2015-EB13870140-42269', 'EG-2014-PM894038-41846'], dtype=object)"
      ]
     },
     "execution_count": 51,
     "metadata": {},
     "output_type": "execute_result"
    }
   ],
   "source": [
    "merged_outer[merged_outer['Returned']==1]['Order ID'].values"
   ]
  },
  {
   "cell_type": "code",
   "execution_count": 52,
   "metadata": {},
   "outputs": [],
   "source": [
    "from sklearn.utils import resample\n",
    "minorIndex = merged_outer[merged_outer['Returned']==1]['Order ID'].values\n"
   ]
  },
  {
   "cell_type": "code",
   "execution_count": 53,
   "metadata": {},
   "outputs": [],
   "source": [
    "resampled = resample(minorIndex, n_samples = 49070-2220)\n",
    "LEFT = pd.DataFrame(list(merged_outer['Order ID']) + list(resampled), columns=['INDEX'])\n",
    "\n"
   ]
  },
  {
   "cell_type": "code",
   "execution_count": null,
   "metadata": {},
   "outputs": [],
   "source": [
    "merged_outer2 = pd.merge(LEFT, merged_outer, how='left', left_on ='INDEX', right_on='Order ID')"
   ]
  },
  {
   "cell_type": "code",
   "execution_count": null,
   "metadata": {},
   "outputs": [],
   "source": [
    "X = merged_outer2[useful_features]\n",
    "y = merged_outer2['Returned']"
   ]
  },
  {
   "cell_type": "code",
   "execution_count": null,
   "metadata": {},
   "outputs": [],
   "source": [
    "from sklearn.model_selection import train_test_split\n",
    "X_train, X_test, Y_train, Y_test = train_test_split(X, y, test_size=0.2)"
   ]
  },
  {
   "cell_type": "markdown",
   "metadata": {},
   "source": [
    "# Logistic Regression"
   ]
  },
  {
   "cell_type": "code",
   "execution_count": 51,
   "metadata": {},
   "outputs": [
    {
     "name": "stderr",
     "output_type": "stream",
     "text": [
      "/Users/jonpresley/anaconda3/envs/motionflow/lib/python3.7/site-packages/sklearn/linear_model/logistic.py:432: FutureWarning: Default solver will be changed to 'lbfgs' in 0.22. Specify a solver to silence this warning.\n",
      "  FutureWarning)\n"
     ]
    }
   ],
   "source": [
    "# Fit the logistic Regression model\n",
    "from sklearn.linear_model import LogisticRegression\n",
    "# Since this is an imbalanced dataset, setting class_weight='balanced' will give us a better result\n",
    "# http://scikit-learn.org/stable/modules/generated/sklearn.linear_model.LogisticRegression.html\n",
    "LR = LogisticRegression(class_weight='balanced')\n",
    "LR.fit(X_train, Y_train)\n",
    "y_predict = LR.predict(X_test)"
   ]
  },
  {
   "cell_type": "code",
   "execution_count": 53,
   "metadata": {},
   "outputs": [
    {
     "data": {
      "text/plain": [
       "array([[6974, 2840],\n",
       "       [ 137,  307]])"
      ]
     },
     "execution_count": 53,
     "metadata": {},
     "output_type": "execute_result"
    }
   ],
   "source": [
    "# Evaluate the logistic regression model\n",
    "from sklearn.metrics import confusion_matrix, roc_auc_score\n",
    "confusion_matrix(Y_test, y_predict)"
   ]
  },
  {
   "cell_type": "code",
   "execution_count": 54,
   "metadata": {},
   "outputs": [
    {
     "data": {
      "text/plain": [
       "0.701029463333315"
      ]
     },
     "execution_count": 54,
     "metadata": {},
     "output_type": "execute_result"
    }
   ],
   "source": [
    "# This is an imbalanced dataset so I would achieve more than 95% accuracy rate even if I always predict 'No'. \n",
    "# In this case, accuracy is not a good metric. ROC curve or F1 score works better for this task.\n",
    "roc_auc_score(Y_test, y_predict)"
   ]
  },
  {
   "cell_type": "markdown",
   "metadata": {},
   "source": [
    "# Random Forest"
   ]
  },
  {
   "cell_type": "code",
   "execution_count": 55,
   "metadata": {},
   "outputs": [],
   "source": [
    "from sklearn import ensemble\n",
    "randomForest = ensemble.RandomForestClassifier()\n"
   ]
  },
  {
   "cell_type": "code",
   "execution_count": 56,
   "metadata": {},
   "outputs": [],
   "source": [
    "randomForest.set_params(random_state=42, n_estimators=1000, class_weight=\"balanced\", max_depth=9, n_jobs=-1)\n",
    "randomForest.fit(X_train, Y_train) # fit \n",
    "y_predict = randomForest.predict(X_test)\n"
   ]
  },
  {
   "cell_type": "code",
   "execution_count": 57,
   "metadata": {},
   "outputs": [
    {
     "data": {
      "text/plain": [
       "array([[5776, 4038],\n",
       "       [  88,  356]])"
      ]
     },
     "execution_count": 57,
     "metadata": {},
     "output_type": "execute_result"
    }
   ],
   "source": [
    "# Evaluate the random forest model\n",
    "confusion_matrix(Y_test, y_predict)"
   ]
  },
  {
   "cell_type": "code",
   "execution_count": 59,
   "metadata": {},
   "outputs": [
    {
     "data": {
      "text/plain": [
       "0.6951743877564134"
      ]
     },
     "execution_count": 59,
     "metadata": {},
     "output_type": "execute_result"
    }
   ],
   "source": [
    "# AUC score\n",
    "roc_auc_score(Y_test, y_predict)"
   ]
  },
  {
   "cell_type": "code",
   "execution_count": 60,
   "metadata": {},
   "outputs": [
    {
     "data": {
      "text/plain": [
       "<matplotlib.axes._subplots.AxesSubplot at 0x1234da5f8>"
      ]
     },
     "execution_count": 60,
     "metadata": {},
     "output_type": "execute_result"
    },
    {
     "data": {
      "image/png": "[encoded data removed]",
      "text/plain": [
       "<Figure size 432x288 with 1 Axes>"
      ]
     },
     "metadata": {
      "needs_background": "light"
     },
     "output_type": "display_data"
    }
   ],
   "source": [
    "feature_importance = list(zip(X_train.columns, randomForest.feature_importances_))\n",
    "dtype = [('feature', 'S10'), ('importance', 'float')]\n",
    "feature_importance = np.array(feature_importance, dtype=dtype)\n",
    "feature_sort = np.sort(feature_importance, order='importance')[::-1]\n",
    "name, score = zip(*list(feature_sort))\n",
    "pd.DataFrame({'name':name,'score':score})[:15].plot.bar(x='name', y='score')"
   ]
  },
  {
   "cell_type": "code",
   "execution_count": 61,
   "metadata": {},
   "outputs": [
    {
     "name": "stdout",
     "output_type": "stream",
     "text": [
      "              precision    recall  f1-score   support\n",
      "\n",
      "           0       0.98      0.59      0.74      9814\n",
      "           1       0.08      0.80      0.15       444\n",
      "\n",
      "    accuracy                           0.60     10258\n",
      "   macro avg       0.53      0.70      0.44     10258\n",
      "weighted avg       0.95      0.60      0.71     10258\n",
      "\n"
     ]
    }
   ],
   "source": [
    "from sklearn.metrics import classification_report\n",
    "print(classification_report(Y_test, y_predict))"
   ]
  },
  {
   "cell_type": "markdown",
   "metadata": {},
   "source": [
    "- Now you have multiple models, which one would you pick? \n",
    "- Can you get any clue from the confusion matrix? What is the meaning of precision and recall in this case?\n",
    "- How will your model help the manager make decisions? \n",
    "- It really depends your understanding of the business model. For example, if I find a product that has a high probability that will get returned, I would recommend my manager to put it on final sale so the customer get it for a lower price but they are not allowed to return the product. However, if the product turned out to be just fine and we are losing profit because we give it a discount. In that case, I would prefer a model that has a relatively good accuracy with better precision (lower Type I error). "
   ]
  },
  {
   "cell_type": "markdown",
   "metadata": {},
   "source": [
    "### Problem 6:\n",
    "Is there anything wrong with the feature engineering process? How should we fix it?"
   ]
  },
  {
   "cell_type": "markdown",
   "metadata": {},
   "source": [
    "- The `Return.Times` feature was wrong. If we want to use training data set to fit a model and test dataset to test a model, we assume test dataset is new data we get after fitting the model. But using the whole dataset to count the times will actually indicate these items will be returned in the test dataset. That's why the process is invalid.\n",
    "\n",
    "- The easiest way to fix the problem is to split the train and test set by different timespan. You can use 2012-2014 data for training and 2015 data as testing. It will mimic the same scenario in real life: **you don't know what's going to happen in the future :)**\n",
    "\n",
    "- A great [blog post](http://www.fast.ai/2017/11/13/validation-sets/) from fast.ai discussing this problem."
   ]
  },
  {
   "cell_type": "code",
   "execution_count": null,
   "metadata": {},
   "outputs": [],
   "source": []
  }
 ],
 "metadata": {
  "kernelspec": {
   "display_name": "Python 3",
   "language": "python",
   "name": "python3"
  },
  "language_info": {
   "codemirror_mode": {
    "name": "ipython",
    "version": 3
   },
   "file_extension": ".py",
   "mimetype": "text/x-python",
   "name": "python",
   "nbconvert_exporter": "python",
   "pygments_lexer": "ipython3",
   "version": "3.7.3"
  }
 },
 "nbformat": 4,
 "nbformat_minor": 2
}
